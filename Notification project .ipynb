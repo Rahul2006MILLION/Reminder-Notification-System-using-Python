{
 "cells": [
  {
   "cell_type": "code",
   "execution_count": null,
   "id": "23329783-940f-40ac-9adf-9cb7efe262fc",
   "metadata": {},
   "outputs": [
    {
     "name": "stdin",
     "output_type": "stream",
     "text": [
      "Enter for what do you want to be reminded of:  Take Pills\n",
      "Enter interval time in minutes:  2\n"
     ]
    }
   ],
   "source": [
    "from datetime import datetime\n",
    "from datetime import timedelta\n",
    "import time\n",
    "from plyer import notification\n",
    "noww=datetime.today()\n",
    "task=input(\"Enter for what do you want to be reminded of: \")\n",
    "interval_time=int(input(\"Enter interval time in minutes: \"))\n",
    "reminder=noww+timedelta(minutes=interval_time)\n",
    "while True:\n",
    "    if datetime.today()>=reminder: #here datetime.today() is used instaed of noww cause it updated current time keeping\n",
    "        #reminder as constant\n",
    "        notification.notify(\n",
    "            title=\"Reminder\",\n",
    "            message=f\"{task}\",\n",
    "            timeout=15\n",
    "        )\n",
    "        break\n",
    "    time.sleep(1) #if we don’t pause, Python will check thousands of times per second, using 100% CPU unnecessarily. "
   ]
  },
  {
   "cell_type": "code",
   "execution_count": null,
   "id": "a46f4cf4-8575-43e2-b379-d006cb28a0af",
   "metadata": {},
   "outputs": [],
   "source": []
  }
 ],
 "metadata": {
  "kernelspec": {
   "display_name": "Python [conda env:base] *",
   "language": "python",
   "name": "conda-base-py"
  },
  "language_info": {
   "codemirror_mode": {
    "name": "ipython",
    "version": 3
   },
   "file_extension": ".py",
   "mimetype": "text/x-python",
   "name": "python",
   "nbconvert_exporter": "python",
   "pygments_lexer": "ipython3",
   "version": "3.13.5"
  }
 },
 "nbformat": 4,
 "nbformat_minor": 5
}

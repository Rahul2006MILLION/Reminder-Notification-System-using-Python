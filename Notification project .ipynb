{
 "cells": [
  {
   "cell_type": "code",
   "execution_count": 1,
   "id": "23329783-940f-40ac-9adf-9cb7efe262fc",
   "metadata": {},
   "outputs": [
    {
     "name": "stdin",
     "output_type": "stream",
     "text": [
      "Enter for what do you want to be reminded of:  Take Pills\n",
      "Enter interval time in minutes:  1\n"
     ]
    }
   ],
   "source": [
    "from datetime import datetime\n",
    "from datetime import timedelta\n",
    "import time\n",
    "from plyer import notification\n",
    "noww=datetime.today()\n",
    "task=input(\"Enter for what do you want to be reminded of: \")\n",
    "interval_time=int(input(\"Enter interval time in minutes: \"))\n",
    "reminder=noww+timedelta(minutes=interval_time)\n",
    "while True:\n",
    "    if datetime.today()>=reminder: #here datetime.today() is used instaed of noww cause it updated current time keeping\n",
    "        #reminder as constant\n",
    "        notification.notify(\n",
    "            title=\"Reminder\",\n",
    "            message=f\"{task}\",\n",
    "            timeout=15\n",
    "        )\n",
    "        break\n",
    "    time.sleep(1) #if we don’t pause, Python will check thousands of times per second, using 100% CPU unnecessarily. "
   ]
  },
  {
   "cell_type": "markdown",
   "id": "2ba1114e-438d-4730-8bdb-53cffceca255",
   "metadata": {},
   "source": [
    "Without Use of While Loop"
   ]
  },
  {
   "cell_type": "code",
   "execution_count": 3,
   "id": "a46f4cf4-8575-43e2-b379-d006cb28a0af",
   "metadata": {},
   "outputs": [
    {
     "name": "stdin",
     "output_type": "stream",
     "text": [
      "Enter for what do you want to be reminded of:  2\n",
      "Enter interval of time in minutes:  1\n"
     ]
    }
   ],
   "source": [
    "from datetime import datetime,timedelta\n",
    "from plyer import notification\n",
    "import time\n",
    "tod=datetime.today()\n",
    "task=input(\"Enter for what do you want to be reminded of: \")\n",
    "ask_time=int(input(\"Enter interval of time in minutes: \"))\n",
    "reminder=datetime.today()+timedelta(minutes=ask_time)\n",
    "toseconds=(reminder-tod).total_seconds()\n",
    "if toseconds>0:\n",
    "    time.sleep(toseconds)\n",
    "    notification.notify(\n",
    "        title=\"Reminder\",\n",
    "        message=f\"{task}\"\n",
    "    )"
   ]
  },
  {
   "cell_type": "code",
   "execution_count": 1,
   "id": "1678dea6-db6e-4edf-a230-60f09b3f9741",
   "metadata": {},
   "outputs": [
    {
     "name": "stdin",
     "output_type": "stream",
     "text": [
      "Enter the Task you want to be reminded:  Write Home Work\n",
      "Enter at what hour you want to be reminded:  14\n",
      "Enter at what minute you want to be reminded:  04\n"
     ]
    }
   ],
   "source": [
    "#WITHOUT USING timedelta function!!\n",
    "\n",
    "from datetime import datetime,timedelta\n",
    "from plyer import notification\n",
    "from datetime import time\n",
    "import time as t #If importing both {time}, make sure to name the object.\n",
    "current=datetime.today()\n",
    "task=input(\"Enter the Task you want to be reminded: \").title()\n",
    "hour=int(input(\"Enter at what hour you want to be reminded: \"))\n",
    "minute=int(input(\"Enter at what minute you want to be reminded: \"))\n",
    "second=0\n",
    "reminder=time(hour,minute,second,0)\n",
    "while True:\n",
    "    if datetime.today().time()>=reminder:\n",
    "        notification.notify(\n",
    "            title=\"⏰Reminder\",\n",
    "            message=f\"{task}\",\n",
    "            timeout=10\n",
    "        )\n",
    "        break\n",
    "    t.sleep(1)"
   ]
  },
  {
   "cell_type": "code",
   "execution_count": null,
   "id": "4d3fb0f0-b3c2-4626-a8c0-a2840e79ec1d",
   "metadata": {},
   "outputs": [],
   "source": []
  }
 ],
 "metadata": {
  "kernelspec": {
   "display_name": "Python [conda env:base] *",
   "language": "python",
   "name": "conda-base-py"
  },
  "language_info": {
   "codemirror_mode": {
    "name": "ipython",
    "version": 3
   },
   "file_extension": ".py",
   "mimetype": "text/x-python",
   "name": "python",
   "nbconvert_exporter": "python",
   "pygments_lexer": "ipython3",
   "version": "3.13.5"
  }
 },
 "nbformat": 4,
 "nbformat_minor": 5
}
